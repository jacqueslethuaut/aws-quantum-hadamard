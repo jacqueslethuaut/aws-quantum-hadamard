{
 "cells": [
  {
   "cell_type": "code",
   "execution_count": 1,
   "metadata": {},
   "outputs": [],
   "source": [
    "%load_ext autoreload\n",
    "%autoreload 2"
   ]
  },
  {
   "cell_type": "code",
   "execution_count": 2,
   "metadata": {},
   "outputs": [
    {
     "data": {
      "text/plain": [
       "True"
      ]
     },
     "execution_count": 2,
     "metadata": {},
     "output_type": "execute_result"
    }
   ],
   "source": [
    "from dotenv import load_dotenv\n",
    "\n",
    "load_dotenv('.env')\n"
   ]
  },
  {
   "cell_type": "code",
   "execution_count": 3,
   "metadata": {},
   "outputs": [],
   "source": [
    "import os\n",
    "import json\n",
    "import boto3\n",
    "import logging\n",
    "\n",
    "from IPython.core.getipython import get_ipython\n",
    "from quantum_lib.s3_manager import S3Manager\n",
    "from quantum_lib.iam_manager import IAMManager\n",
    "from quantum_lib.quantum_circuit_manager import QuantumCircuitManager\n"
   ]
  },
  {
   "cell_type": "code",
   "execution_count": 4,
   "metadata": {},
   "outputs": [],
   "source": [
    "logger = logging.getLogger()\n",
    "logger.setLevel(logging.INFO)"
   ]
  },
  {
   "cell_type": "code",
   "execution_count": 5,
   "metadata": {},
   "outputs": [],
   "source": [
    "def notebook_path():\n",
    "    \"\"\"Returns the absolute path of the notebook.\"\"\"\n",
    "    shell = get_ipython()\n",
    "    notebook_path = os.path.join(os.getcwd(), shell.notebook_name)\n",
    "    return notebook_path"
   ]
  },
  {
   "cell_type": "code",
   "execution_count": 7,
   "metadata": {},
   "outputs": [
    {
     "name": "stdout",
     "output_type": "stream",
     "text": [
      "Role BraketRole already exists.\n",
      "Role S3Role already exists.\n",
      "Role LambdaRole already exists.\n",
      "Function YourLambdaFunctionName already exists. Updating the function code.\n",
      "Task ARN: arn:aws:braket:eu-west-2:690026366446:quantum-task/477ee2fb-7701-4b38-9104-ecd0d9e2cf58\n",
      "Results: Counter({'0': 543, '1': 457})\n"
     ]
    }
   ],
   "source": [
    "with open('config/config.json', 'r') as f:\n",
    "    config = json.load(f)\n",
    "        \n",
    "    s3_manager = S3Manager(config)\n",
    "    iam_manager = IAMManager(config)\n",
    "    quantum_manager = QuantumCircuitManager(config)\n",
    "    \n",
    "    s3_manager.create_bucket_if_not_exists()\n",
    "    iam_manager.create_roles()\n",
    "    \n",
    "    file_path = \"lambda/lambda_function.py\"\n",
    "    script_dir = %pwd\n",
    "    lambda_file_path = os.path.join(script_dir, file_path)\n",
    "    iam_manager.create_lambda_function(lambda_file_path)\n",
    "\n",
    "    circuit = quantum_manager.create_basic_circuit()\n",
    "    quantum_manager.apply_gates(circuit, 0)\n",
    "\n",
    "    task_arn = quantum_manager.run_circuit(circuit)\n",
    "    print(f\"Task ARN: {task_arn}\")\n",
    "\n",
    "    results = quantum_manager.get_results()\n",
    "    print(f\"Results: {results}\")\n",
    "    \n",
    "    s3_manager.save_to_s3(results, \"results-key\")\n",
    "\n",
    "    # Perform any cleanup, if necessary\n",
    "    #s3_manager.cleanup()\n",
    "    #iam_manager.cleanup()\n",
    "    #iam_manager.delete_lambda_function()\n",
    "    #iam_manager.delete_roles()\n",
    "\n"
   ]
  },
  {
   "cell_type": "markdown",
   "metadata": {},
   "source": [
    "## Estimated probability distribution of a 2-qubit system\n"
   ]
  },
  {
   "cell_type": "code",
   "execution_count": 8,
   "metadata": {},
   "outputs": [
    {
     "data": {
      "image/png": "[encoded data removed]",
      "text/plain": [
       "<Figure size 1500x400 with 4 Axes>"
      ]
     },
     "metadata": {},
     "output_type": "display_data"
    }
   ],
   "source": [
    "import numpy as np\n",
    "import matplotlib.pyplot as plt\n",
    "\n",
    "# Define a hypothetical probability distribution for a 2-qubit system\n",
    "# This is the theoretical distribution you would get with infinite shots\n",
    "p = np.array([0.1, 0.2, 0.3, 0.4])  # Probabilities for states |00>, |01>, |10>, and |11>\n",
    "\n",
    "# Function to simulate N shots\n",
    "def simulate_shots(prob_dist, N):\n",
    "    return np.random.multinomial(N, prob_dist)\n",
    "\n",
    "# Simulate for different numbers of shots\n",
    "N_values = [10, 100, 1000, 10000]\n",
    "simulated_results = [simulate_shots(p, N) for N in N_values]\n",
    "\n",
    "# Calculate the estimated probabilities and standard errors\n",
    "estimated_p = [results / N for results, N in zip(simulated_results, N_values)]\n",
    "standard_errors = [np.sqrt((est * (1 - est)) / N) for est, N in zip(estimated_p, N_values)]\n",
    "\n",
    "# Plot the results\n",
    "fig, axes = plt.subplots(1, len(N_values), figsize=(15, 4))\n",
    "\n",
    "for i, N in enumerate(N_values):\n",
    "    ax = axes[i]\n",
    "    ax.bar(range(len(p)), estimated_p[i], yerr=standard_errors[i] * 1.96, capsize=5)\n",
    "    ax.set_title(f\"N = {N}\")\n",
    "    ax.set_xticks(range(len(p)))\n",
    "    ax.set_xticklabels([f\"|{i:02b}>\" for i in range(len(p))])\n",
    "    ax.set_ylim([0, max(p) + 0.1])\n",
    "\n",
    "plt.suptitle(\"Estimated Probabilities with 95% Confidence Intervals\")\n",
    "plt.show()\n",
    "\n"
   ]
  }
 ],
 "metadata": {
  "kernelspec": {
   "display_name": "venv-quantum310",
   "language": "python",
   "name": "python3"
  },
  "language_info": {
   "codemirror_mode": {
    "name": "ipython",
    "version": 3
   },
   "file_extension": ".py",
   "mimetype": "text/x-python",
   "name": "python",
   "nbconvert_exporter": "python",
   "pygments_lexer": "ipython3",
   "version": "3.10.13"
  },
  "orig_nbformat": 4
 },
 "nbformat": 4,
 "nbformat_minor": 2
}
